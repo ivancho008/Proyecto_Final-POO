{
 "cells": [
  {
   "cell_type": "markdown",
   "id": "e04aea6a",
   "metadata": {},
   "source": [
    "# MODULO I: INTRODUCCION A LA PROGRAMACION ORIENTADA A OBJETOS"
   ]
  },
  {
   "cell_type": "markdown",
   "id": "0fa2f6ac",
   "metadata": {},
   "source": [
    "Ejemplo Básico 1: Variables Separadas"
   ]
  },
  {
   "cell_type": "code",
   "execution_count": 1,
   "id": "a9cd5a16",
   "metadata": {},
   "outputs": [
    {
     "name": "stdout",
     "output_type": "stream",
     "text": [
      "John Salazar 4.0\n",
      "Nora Salazar 3.7\n",
      "Nota mas alta:  4.0\n"
     ]
    }
   ],
   "source": [
    "nombre1 = \"John Salazar\"\n",
    "nota1 = 4.0\n",
    "\n",
    "nombre2 = \"Nora Salazar\"\n",
    "nota2 = 3.7\n",
    "\n",
    "print(nombre1, nota1 )\n",
    "print(nombre2, nota2 )\n",
    "print(\"Nota mas alta: \", max(nota1, nota2))"
   ]
  },
  {
   "cell_type": "markdown",
   "id": "9dbd3535",
   "metadata": {},
   "source": [
    "Problema:\n",
    "\n",
    "* Poca Organización\n",
    "* Dificil escalar\n",
    "* Repetición de código"
   ]
  },
  {
   "cell_type": "markdown",
   "id": "bfaaa728",
   "metadata": {},
   "source": [
    "Elemplo Básico 2: Diccionario de Alumnos"
   ]
  },
  {
   "cell_type": "code",
   "execution_count": 2,
   "id": "f636aa57",
   "metadata": {},
   "outputs": [
    {
     "name": "stdout",
     "output_type": "stream",
     "text": [
      "El Alumno con cedula 111 se llama John Salazar y su nota es 4.0\n"
     ]
    }
   ],
   "source": [
    "alumnos = {\n",
    "    \"111\": {\n",
    "        \"nombre\": \"John Salazar\",\n",
    "        \"nota\": 4.0\n",
    "    },\n",
    "    \"222\": {\n",
    "        \"nombre\": \"Lina Correa\",\n",
    "        \"nota\": 3.7\n",
    "    },\n",
    "    \"333\": {\n",
    "        \"nombre\": \"Pedro Martinez\",\n",
    "        \"nota\": 4.0\n",
    "    }\n",
    "}\n",
    "\n",
    "cedula = input(\"Ingrese la cedula del estudiante: \")\n",
    "\n",
    "print(\"El Alumno con cedula\", cedula, \"se llama\", alumnos[cedula][\"nombre\"], \"y su nota es\", alumnos[cedula][\"nota\"])"
   ]
  },
  {
   "cell_type": "markdown",
   "id": "8abfd646",
   "metadata": {},
   "source": [
    "## Primer contacto con clases y objetos"
   ]
  },
  {
   "cell_type": "code",
   "execution_count": 5,
   "id": "438a2d1d",
   "metadata": {},
   "outputs": [
    {
     "name": "stdout",
     "output_type": "stream",
     "text": [
      "INFORMACION INICIAL:\n",
      "Soy John Salazar, tengo 17 años y mi cedula es 111 y por eso No puede votar por ello mi calificacion Aprobado\n",
      "Soy Lina Correa, tengo 19 años y mi cedula es 222 y por eso Si puede votar por ello mi calificacion Aprobado\n",
      "INFORMACION DESPUES DE CUMPLIR AÑOS:\n",
      "Soy John Salazar, tengo 18 años y mi cedula es 111 y por eso Si puede votar por ello mi calificacion Aprobado\n",
      "Soy Lina Correa, tengo 19 años y mi cedula es 222 y por eso Si puede votar por ello mi calificacion Aprobado\n"
     ]
    }
   ],
   "source": [
    "class Alumno:\n",
    "    def __init__(self, cedula, nombre, nota, edad):\n",
    "        self.cedula = cedula\n",
    "        self.nombre = nombre\n",
    "        self.nota = nota\n",
    "        self.edad = edad\n",
    "    \n",
    "    def obtenner_calificacion(self):\n",
    "        if self.nota >= 3.5:\n",
    "            return \"Aprobado\"\n",
    "        else:\n",
    "            return \"Reprobado\"\n",
    "    \n",
    "    def cumplir_anos(self):\n",
    "        self.edad += 1\n",
    "        return self.edad\n",
    "    \n",
    "    def puede_votar(self):\n",
    "        return \"Si puede votar\" if self.edad >= 18 else \"No puede votar\"\n",
    "\n",
    "\n",
    "# Crear un objeto de la clase Alumno Instanciar la clase\n",
    "alumno1 = Alumno(\"111\", \"John Salazar\", 4.0, 17)\n",
    "alumno2 = Alumno(\"222\", \"Lina Correa\", 3.7, 19)\n",
    "\n",
    "# lista de alumnos\n",
    "alumnos = [alumno1, alumno2]\n",
    "\n",
    "# Mostrar informacion antes de cumplir años\n",
    "\n",
    "print(\"INFORMACION INICIAL:\")\n",
    "\n",
    "for al in alumnos:\n",
    "    print(f\"Soy {al.nombre}, tengo {al.edad} años y mi cedula es {al.cedula} y por eso {al.puede_votar()} por ello mi calificacion {al.obtenner_calificacion()}\")\n",
    "\n",
    "\n",
    "# simular que uno de los alumnos cumple años\n",
    "\n",
    "alumno1.cumplir_anos()\n",
    "\n",
    "print(\"INFORMACION DESPUES DE CUMPLIR AÑOS:\")\n",
    "for al in alumnos:\n",
    "    print(f\"Soy {al.nombre}, tengo {al.edad} años y mi cedula es {al.cedula} y por eso {al.puede_votar()} por ello mi calificacion {al.obtenner_calificacion()}\")\n",
    "    "
   ]
  }
 ],
 "metadata": {
  "kernelspec": {
   "display_name": "Python 3",
   "language": "python",
   "name": "python3"
  },
  "language_info": {
   "codemirror_mode": {
    "name": "ipython",
    "version": 3
   },
   "file_extension": ".py",
   "mimetype": "text/x-python",
   "name": "python",
   "nbconvert_exporter": "python",
   "pygments_lexer": "ipython3",
   "version": "3.11.9"
  }
 },
 "nbformat": 4,
 "nbformat_minor": 5
}
