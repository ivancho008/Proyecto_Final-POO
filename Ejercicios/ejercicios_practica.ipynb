{
 "cells": [
  {
   "cell_type": "markdown",
   "id": "084f5fe5",
   "metadata": {},
   "source": [
    "# 🧪 Ejercicio 1: Registro de Empleados\n",
    "## Enunciado:\n",
    "\n",
    "* Crea una clase Empleado que contenga:\n",
    "\n",
    "* Atributo público: nombre\n",
    "\n",
    "* Atributo protegido: _salario\n",
    "\n",
    "* Atributo privado: __id\n",
    "\n",
    "* Un contador de empleados como atributo de clase\n",
    "\n",
    "* Método mágico __str__ para imprimir la información del empleado\n",
    "\n",
    "* Método estático es_valido_id que retorne True si un ID comienza con \"EMP\"\n",
    "\n",
    "* Un método de clase que devuelva cuántos empleados se han creado\n",
    "* También usa @property y @setter para validar que el salario no sea menor de 1,000,000."
   ]
  },
  {
   "cell_type": "markdown",
   "id": "dcb8eb03",
   "metadata": {},
   "source": [
    "# 🧪 Ejercicio 2: Cuenta Bancaria\n",
    "## Enunciado:\n",
    "\n",
    "* Crea una clase CuentaBancaria que incluya:\n",
    "\n",
    "* Atributo público: titular\n",
    "\n",
    "* Atributo protegido: _saldo\n",
    "\n",
    "* Atributo privado: __numero_cuenta\n",
    "\n",
    "* Método mágico __repr__ para representar la cuenta\n",
    "\n",
    "* Método depositar y retirar\n",
    "\n",
    "* @property y @setter para acceder/modificar el saldo (no permitir saldo negativo)\n",
    "\n",
    "* Método de clase desde_string que cree una cuenta desde una cadena con formato: \"Luis,1234,500000\"\n",
    "\n",
    "* Método estático es_cuenta_valida que verifique que el número de cuenta tenga 4 dígitos"
   ]
  },
  {
   "cell_type": "markdown",
   "id": "fef7c072",
   "metadata": {},
   "source": [
    "# 🧪 Ejercicio 3: Producto con Descuento\n",
    "## Enunciado:\n",
    "\n",
    "* Crea una clase Producto que tenga:\n",
    "\n",
    "* Atributo público: nombre\n",
    "\n",
    "* Atributo protegido: _precio\n",
    "\n",
    "* Atributo privado: __codigo\n",
    "\n",
    "* Método mágico __eq__ para comparar productos por su código\n",
    "\n",
    "* Método estático aplicar_descuento(precio, porcentaje) que calcule el nuevo precio\n",
    "\n",
    "* Atributo de clase impuesto que todos los productos comparten\n",
    "\n",
    "* @property y @setter para acceder y modificar el precio (no debe ser menor de 0)"
   ]
  },
  {
   "cell_type": "markdown",
   "id": "a2096d6b",
   "metadata": {},
   "source": [
    "# 🧮 Ejercicio: Clases de Figuras Geométricas\n",
    "## 🎯 Enunciado\n",
    "### Crea una clase base llamada Figura con las siguientes características:\n",
    "\n",
    "✅ Requisitos:\n",
    "* Atributos:\n",
    "* Público: nombre\n",
    "\n",
    "* Protegido: _color\n",
    "\n",
    "* Privado: __id_figura (único por figura)\n",
    "\n",
    "### Métodos:\n",
    "* Método mágico __str__ para mostrar la figura\n",
    "\n",
    "* Método de clase crear_con_nombre que permite crear figuras por nombre (Figura.crear_con_nombre(\"Cuadrado\"))\n",
    "\n",
    "* Método estático es_color_valido(color) que retorna True si el color está entre [\"rojo\", \"azul\", \"verde\"]\n",
    "\n",
    "* @property y @setter para acceder y modificar el color (solo si es válido)\n",
    "\n",
    "### Luego crea una subclase Circulo que herede de Figura:\n",
    "\n",
    "✅ Requisitos:\n",
    "### Atributos:\n",
    "* Protegido: _radio\n",
    "\n",
    "### Métodos:\n",
    "* Método mágico __eq__ que compara dos círculos por radio\n",
    "\n",
    "* Método area() que devuelva el área del círculo\n",
    "\n",
    "* @property y @setter para acceder/modificar el radio (debe ser mayor que 0)"
   ]
  },
  {
   "cell_type": "markdown",
   "id": "c9c57a5e",
   "metadata": {},
   "source": []
  }
 ],
 "metadata": {
  "kernelspec": {
   "display_name": "Python 3",
   "language": "python",
   "name": "python3"
  },
  "language_info": {
   "name": "python",
   "version": "3.11.9"
  }
 },
 "nbformat": 4,
 "nbformat_minor": 5
}
