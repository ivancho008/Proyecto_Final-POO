{
 "cells": [
  {
   "cell_type": "markdown",
   "metadata": {},
   "source": [
    "# ATRIBUTOS Y METODOS DE CLASE  ESTATICOS"
   ]
  },
  {
   "cell_type": "code",
   "execution_count": 1,
   "metadata": {},
   "outputs": [
    {
     "name": "stdout",
     "output_type": "stream",
     "text": [
      "Juan\n",
      "Manizales\n"
     ]
    }
   ],
   "source": [
    "class Persona:\n",
    "    ciudad = \"Manizales\"  # Atributo de Clase\n",
    "    \n",
    "    def __init__(self, nombre, edad):\n",
    "        self.nombre = nombre # Atributo de Instancia\n",
    "        self.edad = edad     # Atributo de Instancia\n",
    "\n",
    "p1 = Persona(\"Juan\", 25)\n",
    "print(p1.nombre)  # Accede a la instancia\n",
    "\n",
    "print(p1.ciudad) # Accede al atributo de clase"
   ]
  },
  {
   "cell_type": "markdown",
   "metadata": {},
   "source": [
    "## Metodos de Clase (@classmethod)\n",
    "\n",
    "Acceder a los atributos de clase y se declaran con el decorador @classmethod.\n",
    "Reciben como primer parametro cls"
   ]
  },
  {
   "cell_type": "code",
   "execution_count": 2,
   "metadata": {},
   "outputs": [
    {
     "name": "stdout",
     "output_type": "stream",
     "text": [
      "Villavicencio\n"
     ]
    }
   ],
   "source": [
    "class Persona:\n",
    "    ciudad = \"Manizales\"  # Atributo de Clase\n",
    "    \n",
    "    def __init__(self, nombre, edad):\n",
    "        self.nombre = nombre # Atributo de Instancia\n",
    "        self.edad = edad     # Atributo de Instancia\n",
    "        \n",
    "    @classmethod\n",
    "    def cambiar_ciudad(cls, ciudad):\n",
    "        cls.ciudad = ciudad  # Cambia el atributo de clase\n",
    "        \n",
    "\n",
    "Persona.cambiar_ciudad(\"Villavicencio\")\n",
    "print(Persona.ciudad)"
   ]
  },
  {
   "cell_type": "markdown",
   "metadata": {},
   "source": [
    "## 3. METODOS  ESTATICOS (@estaticmethod)"
   ]
  },
  {
   "cell_type": "markdown",
   "metadata": {},
   "source": [
    "No acceden ni a la instancia(self) ni a la clase(cls) Son funciones utilitarias que estan relacionadas conceptualmente con la clase"
   ]
  },
  {
   "cell_type": "code",
   "execution_count": 9,
   "metadata": {},
   "outputs": [
    {
     "name": "stdout",
     "output_type": "stream",
     "text": [
      "Hoy es un día normal\n"
     ]
    }
   ],
   "source": [
    "import random\n",
    "\n",
    "class Persona:\n",
    "    def __init__(self, nombre, edad):\n",
    "        self.nombre = nombre\n",
    "        self.edad = edad\n",
    "    \n",
    "    @staticmethod\n",
    "    def mensaje_hoy():\n",
    "        mensajes = [\n",
    "            \"Hoy es un gran día\",\n",
    "            \"Hoy es un día normal\",\n",
    "            \"Hoy es un día aburrido\"\n",
    "        ]\n",
    "        return random.choice(mensajes)\n",
    "\n",
    "print(Persona.mensaje_hoy())"
   ]
  },
  {
   "cell_type": "markdown",
   "metadata": {},
   "source": [
    "# ACTIVIDAD PRACTICA DEL MODULO"
   ]
  },
  {
   "cell_type": "markdown",
   "metadata": {},
   "source": [
    "1. Crea una clase llamada Estudiante\n",
    "2. Agrega un atributo de clase llamado **institucion** con el valor **SENA**\n",
    "3. Define los atributos de instancia **nombre** y **edad**\n",
    "4. Crea un método de clase llamado cambiar_institución() que permita modificar el valor de intitución.\n",
    "5. Crea un método estático llamado mensaje_motivador() que imprima un mensaje positivo\n",
    "6. Crea varios objetos y verifica como cambian los valores del atributo de clase al modificarlo desde un método de clase."
   ]
  },
  {
   "cell_type": "code",
   "execution_count": null,
   "metadata": {},
   "outputs": [
    {
     "name": "stdout",
     "output_type": "stream",
     "text": [
      "Nombre: Juan, Edad: 20, Institución: SENA\n",
      "Nombre: Maria, Edad: 22, Institución: SENA\n",
      "Nombre: Juan, Edad: 20, Institución: SENA\n",
      "Nombre: Maria, Edad: 22, Institución: SENA\n",
      "Sigue aprendiendo, el conocimiento transforma vidas!!!\n"
     ]
    }
   ],
   "source": [
    "class Estudiante:\n",
    "    institucion = \"SENA\"  # Atributo de clase\n",
    "    \n",
    "    def __init__(self, nombre, edad):\n",
    "        self.nombre = nombre\n",
    "        self.edad = edad\n",
    "        \n",
    "    @classmethod\n",
    "    def cambiar_institucion(cls, nueva_institucion):\n",
    "        cls.institucion = nueva_institucion\n",
    "    \n",
    "    @staticmethod\n",
    "    def mensaje_motivador():\n",
    "        print(\"¡Nunca dejes de aprender, cada día es una nueva oportunidad!\")\n",
    "    \n",
    "    def mostrar_info(self):\n",
    "        print(f\"> Nombre: {self.nombre} | Edad: {self.edad} | Institución: {Estudiante.institucion}\")\n",
    "        \n",
    "\n",
    "# Crear estudiantes\n",
    "e1 = Estudiante(\"Juan\", 20)\n",
    "e2 = Estudiante(\"Maria\", 22)\n",
    "e3 = Estudiante(\"Carlos\", 19)  # Nuevo estudiante\n",
    "\n",
    "# Mostrar información antes del cambio\n",
    "e1.mostrar_info()\n",
    "e2.mostrar_info()\n",
    "e3.mostrar_info()\n",
    "\n",
    "# Cambiar institución desde la clase\n",
    "Estudiante.cambiar_institucion(\"SERVICIO NACIONAL DE APRENDIZAJE\")\n",
    "\n",
    "# Mostrar información después del cambio\n",
    "e1.mostrar_info()\n",
    "e2.mostrar_info()\n",
    "e3.mostrar_info()\n",
    "\n",
    "# Mostrar mensaje motivador\n",
    "Estudiante.mensaje_motivador()\n"
   ]
  }
 ],
 "metadata": {
  "kernelspec": {
   "display_name": "Python 3",
   "language": "python",
   "name": "python3"
  },
  "language_info": {
   "codemirror_mode": {
    "name": "ipython",
    "version": 3
   },
   "file_extension": ".py",
   "mimetype": "text/x-python",
   "name": "python",
   "nbconvert_exporter": "python",
   "pygments_lexer": "ipython3",
   "version": "3.11.9"
  }
 },
 "nbformat": 4,
 "nbformat_minor": 2
}
