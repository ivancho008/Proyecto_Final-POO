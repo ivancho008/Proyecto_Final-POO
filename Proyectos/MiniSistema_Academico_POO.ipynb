{
 "cells": [
  {
   "cell_type": "markdown",
   "metadata": {},
   "source": [
    "# PROYECTO MINI SISTEMA ACADEMICO CON POO\n",
    "\n",
    "## Objetivo\n",
    "\n",
    "Aplicar de forma integral los conceptos de clases, objetos, atributos, metodos, encapsulamiento y metodos especiales para crear un sistema simple de gestión de estudiantes, materias y calificaciones"
   ]
  },
  {
   "cell_type": "markdown",
   "metadata": {},
   "source": [
    "1. ETRUCTURA DEL SISTEMA\n",
    "\n",
    "| CLASE | ATRIBUTOS | MÉTODOS PRINCIPALES |\n",
    "|-------|-----------|-------------------|\n",
    "| Alumno | cedula, nombre, edad, nota | puede_votar(), obtener_calificacion() |\n",
    "| Materia | nombre, creditos, docente | asignar_alumno(), listar_estudiantes() |\n",
    "| Sistema | materias(lista) | crear_materia(), ver_materias() |"
   ]
  },
  {
   "cell_type": "markdown",
   "metadata": {},
   "source": [
    "2. Requisitos funcionales\n",
    "\n",
    "* Registrar alumnos y asignarlos a materias\n",
    "* Listar los estudiantes de una materia\n",
    "* Consultar si un alumno aprueba la materia\n",
    "* Simular si puede votar por su edad\n",
    "* Mostrar resumen por alumno y por materia"
   ]
  },
  {
   "cell_type": "markdown",
   "metadata": {},
   "source": [
    "## ENUNCIADO\n",
    "\n",
    "1. Define una clase ALumno con atributos privados y metodos públicos(get,set,__str__)\n",
    "2. Define una clase Materia que pueda contener multiples objetos Alumno\n",
    "3. Agrega funcionalidad para agregar alumnos a una materia\n",
    "4. Implementa una clase SistemaAcademico que administre múltiples materias\n",
    "5. Muestra toda la información de alumnos por materia"
   ]
  },
  {
   "cell_type": "code",
   "execution_count": null,
   "metadata": {},
   "outputs": [],
   "source": []
  },
  {
   "cell_type": "code",
   "execution_count": null,
   "metadata": {},
   "outputs": [],
   "source": [
    "class Alumno:\n",
    "    def __init__(self, cedula, nombre, edad, nota):\n",
    "        self.__cedula = cedula\n",
    "        self.__nombre = nombre\n",
    "        self.__edad = edad\n",
    "        self.__nota = nota\n",
    "\n",
    "    def get_cedula(self):\n",
    "        return self.__cedula\n",
    "\n",
    "    def get_nombre(self):\n",
    "        return self.__nombre\n",
    "\n",
    "    def get_edad(self):\n",
    "        return self.__edad\n",
    "\n",
    "    def get_nota(self):\n",
    "        return self.__nota\n",
    "\n",
    "    def set_nota(self, nueva_nota):\n",
    "        self.__nota = nueva_nota\n",
    "\n",
    "    \n",
    "    def puede_votar(self):\n",
    "        return self.__edad >= 18\n",
    "\n",
    "    def obtener_calificacion(self):\n",
    "        return \"Aprobado\" if self.__nota >= 3.0 else \"Reprobado\"\n",
    "\n",
    "    def __str__(self):\n",
    "        return f\"{self.__nombre} (Cédula: {self.__cedula}, Edad: {self.__edad}, Nota: {self.__nota}, {self.obtener_calificacion()})\"\n",
    "\n",
    "\n",
    "\n",
    "class Materia:\n",
    "    def __init__(self, nombre, creditos, docente):\n",
    "        self.nombre = nombre\n",
    "        self.creditos = creditos\n",
    "        self.docente = docente\n",
    "        self.alumnos = []\n",
    "\n",
    "    def asignar_alumno(self, alumno):\n",
    "        self.alumnos.append(alumno)\n",
    "\n",
    "    def listar_estudiantes(self):\n",
    "        if not self.alumnos:\n",
    "            print(f\"No hay estudiantes inscritos en {self.nombre}.\")\n",
    "        else:\n",
    "            print(f\"\\n Estudiantes en la materia: {self.nombre}\")\n",
    "            for alumno in self.alumnos:\n",
    "                print(alumno)\n",
    "\n",
    "\n",
    "\n",
    "class SistemaAcademico:\n",
    "    def __init__(self):\n",
    "        self.materias = []\n",
    "\n",
    "    def crear_materia(self, nombre, creditos, docente):\n",
    "        materia = Materia(nombre, creditos, docente)\n",
    "        self.materias.append(materia)\n",
    "\n",
    "    def ver_materias(self):\n",
    "        if not self.materias:\n",
    "            print(\"No hay materias registradas.\")\n",
    "        else:\n",
    "            print(\"\\n Materias disponibles:\")\n",
    "            for i, materia in enumerate(self.materias, start=1):\n",
    "                print(f\"{i}. {materia.nombre} - Docente: {materia.docente}\")\n",
    "\n",
    "    def agregar_alumno_a_materia(self, index_materia, alumno):\n",
    "        if 0 <= index_materia < len(self.materias):\n",
    "            self.materias[index_materia].asignar_alumno(alumno)\n",
    "        else:\n",
    "            print(\"Índice de materia inválido.\")\n",
    "\n",
    "    def mostrar_resumen(self):\n",
    "        for materia in self.materias:\n",
    "            materia.listar_estudiantes ()\n"
   ]
  }
 ],
 "metadata": {
  "language_info": {
   "name": "python"
  }
 },
 "nbformat": 4,
 "nbformat_minor": 2
}
