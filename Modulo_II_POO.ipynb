{
 "cells": [
  {
   "cell_type": "markdown",
   "id": "d92aed3f",
   "metadata": {},
   "source": [
    "# MOULO II: EL CONSTRUCTOR Y EL PARAMETRO self"
   ]
  },
  {
   "cell_type": "markdown",
   "id": "a356d2ee",
   "metadata": {},
   "source": [
    "## 1. El método __init__ (): El contructor"
   ]
  },
  {
   "cell_type": "markdown",
   "id": "d9871c83",
   "metadata": {},
   "source": [
    "El constructor es un metodo espécial que se ejecuta automáticamente cuando se crea un objeto a partir de una clase"
   ]
  },
  {
   "cell_type": "code",
   "execution_count": 1,
   "id": "1e1934fe",
   "metadata": {},
   "outputs": [
    {
     "name": "stdout",
     "output_type": "stream",
     "text": [
      "SE HA CREADO UN OBJETO PERSONA\n",
      "Juan\n"
     ]
    }
   ],
   "source": [
    "class Persona:\n",
    "    def __init__(self, nombre):\n",
    "        print(\"SE HA CREADO UN OBJETO PERSONA\")\n",
    "        self.nombre = nombre\n",
    "\n",
    "\n",
    "#  creamos un objeto de la clase Persona\n",
    "persona1 = Persona(\"Juan\")\n",
    "print(persona1.nombre)\n",
    "\n"
   ]
  },
  {
   "cell_type": "markdown",
   "id": "45ef3700",
   "metadata": {},
   "source": [
    "## 2. ¿ QUE ES EL PARAMETRO SELF?"
   ]
  },
  {
   "cell_type": "markdown",
   "id": "dc4a2817",
   "metadata": {},
   "source": [
    "* **self** representa al objeto actual( la instancia de la clase)\n",
    "* Se utiliza para acceder a los atributos y métodos del objeto desde dentro de la clase\n",
    "* Siempre es el primer parámetro de los métodos de instancia"
   ]
  },
  {
   "cell_type": "code",
   "execution_count": 1,
   "id": "0d6ca856",
   "metadata": {},
   "outputs": [
    {
     "name": "stdout",
     "output_type": "stream",
     "text": [
      "Juan\n",
      "Pedro\n",
      "Tipo de objeto: <class '__main__.Aprendiz'>\n",
      "Tipo de objeto: <class '__main__.Aprendiz'>\n",
      "123456789\n",
      "20\n"
     ]
    }
   ],
   "source": [
    "class Aprendiz:\n",
    "    def __init__(self,cedula, nombre):\n",
    "        self.cedula = cedula\n",
    "        self.nombre = nombre\n",
    "    \n",
    "    def obtener_nombre(self):\n",
    "        return self.nombre\n",
    "\n",
    "# creamos un objeto de la clase Aprendiz\n",
    "aprendiz1 = Aprendiz(\"123456789\", \"Juan\")\n",
    "aprendiz2 = Aprendiz(\"987654321\", \"Pedro\")\n",
    "print(aprendiz1.obtener_nombre()) # acceder al nombre usando self\n",
    "print(aprendiz2.obtener_nombre()) # acceder al nombre usando self\n",
    "print(\"Tipo de objeto:\", type(aprendiz1))\n",
    "print(\"Tipo de objeto:\", type(aprendiz2))\n",
    "\n",
    "aprendiz3 = Aprendiz(\"123456789888\",\"Carlos\")\n",
    "\n",
    "aprendiz3.cedula = \"123456789\"\n",
    "\n",
    "aprendiz3.edad = 20\n",
    "\n",
    "print(aprendiz3.cedula)\n",
    "print(aprendiz3.edad)\n"
   ]
  },
  {
   "cell_type": "markdown",
   "id": "a9fa6a2f",
   "metadata": {},
   "source": [
    "* Cada Objeto tiene su propia copia de atributos\n",
    "* Python permite agregar atributos a objetos despues que fueron creados "
   ]
  },
  {
   "cell_type": "markdown",
   "id": "5234ec35",
   "metadata": {},
   "source": [
    "# ACTIVIDAD PRÁCTICA DEL MODULO"
   ]
  },
  {
   "cell_type": "markdown",
   "id": "09a77c24",
   "metadata": {},
   "source": [
    "##   Crea una clase llamada Lenguaje que tenga como atributos:\n",
    "\n",
    "* nombre\n",
    "* version\n",
    "* lenguaje\n",
    "\n",
    "Definir los siguientes métodos:\n",
    "\n",
    "1. devolver_informacion(): Retorna una cadena con todos los datos del lenguaje\n",
    "2. cambiar_version(nueva_version): Permite actualizar la versión del lenguaje\n",
    "\n",
    "**Instrucciones:**\n",
    "\n",
    "* Pide al usuario que ingrese varios lenguajes mediante un ciclo\n",
    "* Almacena cada lenguaje como un objeto de la clase Lenguaje\n",
    "* Imprime la Información de los lenguajes registrados"
   ]
  },
  {
   "cell_type": "markdown",
   "id": "06cf86f9",
   "metadata": {},
   "source": []
  }
 ],
 "metadata": {
  "kernelspec": {
   "display_name": "Python 3",
   "language": "python",
   "name": "python3"
  },
  "language_info": {
   "codemirror_mode": {
    "name": "ipython",
    "version": 3
   },
   "file_extension": ".py",
   "mimetype": "text/x-python",
   "name": "python",
   "nbconvert_exporter": "python",
   "pygments_lexer": "ipython3",
   "version": "3.13.3"
  }
 },
 "nbformat": 4,
 "nbformat_minor": 5
}
