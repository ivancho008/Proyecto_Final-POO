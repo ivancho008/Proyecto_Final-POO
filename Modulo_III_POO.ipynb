{
 "cells": [
  {
   "cell_type": "markdown",
   "id": "f7dfde49",
   "metadata": {},
   "source": [
    "# MODULO III: METODOS MAGICOS Y MODIFICADORES DE ACCESO"
   ]
  },
  {
   "cell_type": "markdown",
   "id": "931fac9e",
   "metadata": {},
   "source": [
    "1. Metodos Magicos en Python\n",
    "\n",
    "Son metodos  especiales  con nombres que comienzan y terminan con doble guión  bajo (__metodo__). Python los llama automáticamente en momentos especificos.\n",
    "\n",
    "| MÉTODO      | FUNCIÓN                                                      |\n",
    "|-------------|--------------------------------------------------------------|\n",
    "| __init__()  | Constructor al crear el objeto                               |\n",
    "| __str__()   | Representación en forma de texto cuando se imprime el objeto|\n",
    "| __repr__()  | Representación para debugging                                |\n",
    "| __len__()   | Retorna la longitud con len(objeto)                          |\n",
    "| __eq__()    | Permite definir cuando dos objetos se consideran iguales    |\n"
   ]
  },
  {
   "cell_type": "markdown",
   "id": "66c602ed",
   "metadata": {},
   "source": [
    "2.  Metodo __str__()\n",
    "\n",
    "Se ejecuta automaticamente cuando usamos print(objeto) o str(objeto)"
   ]
  },
  {
   "cell_type": "code",
   "execution_count": 1,
   "id": "43d0603a",
   "metadata": {},
   "outputs": [
    {
     "name": "stdout",
     "output_type": "stream",
     "text": [
      "Producto: Manzana, Precio: 0.5\n"
     ]
    }
   ],
   "source": [
    "class Producto:\n",
    "    def __init__(self, nombre, precio):\n",
    "        self.nombre = nombre\n",
    "        self.precio = precio\n",
    "    \n",
    "    def __str__(self):\n",
    "        return f\"Producto: {self.nombre}, Precio: {self.precio}\"\n",
    "    def __repr__(self):\n",
    "        return f\"Producto({self.nombre}, {self.precio})\"\n",
    "    def __eq__(self, otro):\n",
    "        if isinstance(otro, Producto):\n",
    "            return self.nombre == otro.nombre and self.precio == otro.precio\n",
    "        return False\n",
    "    \n",
    "p1 = Producto(\"Manzana\", 0.5)\n",
    "\n",
    "print(p1)  # Producto: Manzana, Precio: 0.5"
   ]
  },
  {
   "cell_type": "markdown",
   "id": "85fd0914",
   "metadata": {},
   "source": [
    "3. Modificadores Acceso\n",
    "\n",
    "Python no tiene modificadores estrictos como **public**, **private**, o **protected** pero se utilizan estas convenciones:\n",
    "\n",
    "Notación           visibilidad            Ejemplo\n",
    "Pública             Libre acceso          self.nombre \n",
    "Protegida(_)       Convención de uso      self._nombre\n",
    "                   Interno\n",
    "Privada(__)        Acceso Restringido      self.__nombre"
   ]
  },
  {
   "cell_type": "code",
   "execution_count": 42,
   "id": "95c63248",
   "metadata": {},
   "outputs": [
    {
     "name": "stdout",
     "output_type": "stream",
     "text": [
      "12345678\n",
      "Juan\n",
      "4.5\n"
     ]
    }
   ],
   "source": [
    "class Alumno:\n",
    "    def __init__(self, cedula, nombre):\n",
    "        self.cedula = cedula # público\n",
    "        \n",
    "        self._nombre = nombre # protegido\n",
    "        \n",
    "        self.__nota = 4.5 # privado\n",
    "        \n",
    "    def obtener_nota(self):\n",
    "        return self.__nota\n",
    "\n",
    "a1 = Alumno(\"12345678\", \"Juan\")\n",
    "print(a1.cedula)  # 12345678\n",
    "print(a1._nombre)  # Juan\n",
    "print(a1.obtener_nota())  # 4.5 Acceso a la nota a través del método público\n",
    "\n"
   ]
  },
  {
   "cell_type": "markdown",
   "id": "8adcd1dc",
   "metadata": {},
   "source": [
    "4. Acceso desde otra clase"
   ]
  },
  {
   "cell_type": "code",
   "execution_count": 51,
   "id": "ca82e63a",
   "metadata": {},
   "outputs": [
    {
     "name": "stdout",
     "output_type": "stream",
     "text": [
      "Juan\n"
     ]
    }
   ],
   "source": [
    "class  Materia:\n",
    "    def __init__(self, nombre):\n",
    "        self.nombre = nombre\n",
    "    \n",
    "    \n",
    "    def consultar_alumno(self):\n",
    "        a = Alumno(\"12345678\", \"Juan\")\n",
    "        print(a._nombre)  # Acceso al atributo protegido\n",
    "\n",
    "m = Materia(\"Matemáticas\")\n",
    "m.consultar_alumno()  # Juan\n",
    "\n"
   ]
  },
  {
   "cell_type": "code",
   "execution_count": 53,
   "id": "6af81b76",
   "metadata": {},
   "outputs": [
    {
     "name": "stdout",
     "output_type": "stream",
     "text": [
      "12345678\n",
      "Juan\n",
      "4.5\n",
      "Juan\n"
     ]
    }
   ],
   "source": [
    "class Alumno:\n",
    "    def __init__(self,cedula,nombre):\n",
    "        self.cedula = cedula\n",
    "        self._nombre = nombre\n",
    "        self.__nota = 4.5  \n",
    "    def obtener_nota(self):\n",
    "        return self.__nota\n",
    "\n",
    "a= Alumno(\"12345678\",\"Juan\")\n",
    "print(a.cedula) # ok\n",
    "print(a._nombre) # ok\n",
    "#print(a.__nota)\n",
    "print(a.obtener_nota())\n",
    "\n",
    "class Materia:\n",
    "    def consultar_alumno(self):\n",
    "        a = Alumno(\"12345678\", \"Juan\")\n",
    "        print(a._nombre)\n",
    "\n",
    "m = Materia()\n",
    "m.consultar_alumno()  # Juan\n"
   ]
  },
  {
   "cell_type": "markdown",
   "id": "c6047fd0",
   "metadata": {},
   "source": [
    "ACCESSO DESDE UNA CLASE EXTERNA"
   ]
  },
  {
   "cell_type": "code",
   "execution_count": null,
   "id": "4990acb3",
   "metadata": {},
   "outputs": [],
   "source": [
    "\n",
    "\n",
    "        "
   ]
  },
  {
   "cell_type": "markdown",
   "id": "99a7a2a1",
   "metadata": {},
   "source": [
    "# ACTIVIDAD  PRACTICA DEL MODULO\n",
    "\n",
    "1. Crae una clase llamda Producto  con los atributos precio y nombre\n",
    "2. Marca Precio como atributo privado\n",
    "3. Implementar el metodo magico __str__() para retornar una descripcion del producto\n",
    "4. Agragar un metodo consultar_precio() para acceder al precio desde afuera de la clase\n",
    "5. Crear dos objetos y muestra sus detalles usando print(producto)"
   ]
  },
  {
   "cell_type": "code",
   "execution_count": 52,
   "id": "ee9e967a",
   "metadata": {},
   "outputs": [
    {
     "name": "stdout",
     "output_type": "stream",
     "text": [
      "Producto: CAMISETA, Precio: 30000\n",
      "Producto: PANTALON, Precio: 50000\n",
      "Precio p1: 30000\n"
     ]
    }
   ],
   "source": [
    "class Producto:\n",
    "    def __init__(self, nombre, precio):\n",
    "        self.nombre = nombre\n",
    "        self.__precio = precio\n",
    "    \n",
    "    def __str__(self):\n",
    "        return f\"Producto: {self.nombre}, Precio: {self.__precio}\"\n",
    "    \n",
    "    def consultar_precio(self):\n",
    "        return self.__precio\n",
    "\n",
    "# Crear Productos\n",
    "\n",
    "p1 = Producto(\"CAMISETA\", 30000)\n",
    "p2 = Producto(\"PANTALON\", 50000)\n",
    "\n",
    "# Mostrar Informacion con __str__\n",
    "print(p1)\n",
    "print(p2)\n",
    "\n",
    "# Consultar precio usando metodo publico\n",
    "print(\"Precio p1:\", p1.consultar_precio())\n",
    "\n",
    "    \n",
    "    \n",
    "    \n",
    "    "
   ]
  },
  {
   "cell_type": "markdown",
   "id": "846fb18b",
   "metadata": {},
   "source": []
  },
  {
   "cell_type": "markdown",
   "id": "fc0a2873",
   "metadata": {},
   "source": [
    "# EJERCICIOS DE APORPIACION"
   ]
  },
  {
   "cell_type": "markdown",
   "id": "b0570c3d",
   "metadata": {},
   "source": [
    "## EJERCICIO I: \n",
    "\n",
    "Crea una clase CuentaBnacaria con los siguientes atributos:\n",
    "\n",
    "* titular: publico\n",
    "* saldo: privado\n",
    "\n",
    "Agrega un método consultar_saldo() que devuelva el saldo\n",
    "\n",
    "Intenta acceder directamente a saldo desde fuera de la clase y verifica el resultado\n",
    "\n",
    "```bash\n",
    "Tutular: Laura\n",
    "Saldo Actual: 1500000\n",
    "Acceso directo: AttributeError: 'CuentaBancaria' object has no attribute 'saldo'\n",
    "```"
   ]
  },
  {
   "cell_type": "code",
   "execution_count": 61,
   "id": "a4f81999",
   "metadata": {},
   "outputs": [
    {
     "name": "stdout",
     "output_type": "stream",
     "text": [
      "Titular: Juan\n",
      "Saldo: 100000\n",
      "Error: 'CuentaBancaria' object has no attribute '__saldo'\n"
     ]
    }
   ],
   "source": [
    "class CuentaBancaria:\n",
    "    def __init__(self, titular, saldo):\n",
    "        self.titular = titular\n",
    "        self.__saldo = saldo\n",
    "    \n",
    "    def consultar_saldo(self):\n",
    "        return self.__saldo\n",
    "\n",
    "cuenta = CuentaBancaria(\"Juan\", 100000)\n",
    "print(\"Titular:\", cuenta.titular)\n",
    "print(\"Saldo:\", cuenta.consultar_saldo())  # Acceso al saldo a través del método público\n",
    "try:\n",
    "    print(\"Acceso Directo\", cuenta.__saldo)  # Intento de acceso directo al saldo (no permitido)\n",
    "except AttributeError as e:\n",
    "    print(\"Error:\", e)"
   ]
  },
  {
   "cell_type": "markdown",
   "id": "a3ea5592",
   "metadata": {},
   "source": [
    "## EJERCICIO II:\n",
    "\n",
    "Crea una clase base Empleado con un atributo protegido _salario\n",
    "Luego, crea una subclase Gerente que aumente el salario en 20% al inicializarse.\n",
    "Crea un método en Gerente que devuelva el nuevo salario\n",
    "\n",
    "```bash\n",
    "Salario Base: 3000000\n",
    "Salario con aumento: 3600000\n",
    "```"
   ]
  },
  {
   "cell_type": "code",
   "execution_count": 64,
   "id": "3cedfb9d",
   "metadata": {},
   "outputs": [
    {
     "name": "stdout",
     "output_type": "stream",
     "text": [
      "Salario Empleado: 50000\n",
      "Salario Gerente: 6000000.0\n"
     ]
    }
   ],
   "source": [
    "class Empleado:\n",
    "    def __init__(self, salario):\n",
    "        self._salario = salario  # Atributo protegido\n",
    "\n",
    "class Gerente(Empleado):\n",
    "    def __init__(self, salario):\n",
    "        super().__init__(salario)\n",
    "        self._salario *= 1.2   # Atributo protegido\n",
    "    def mostrar_salario(self):\n",
    "        return f\"Salario Gerente: {self._salario}\"\n",
    "    \n",
    "empleado = Empleado(50000)\n",
    "print(\"Salario Empleado:\", empleado._salario)  # Acceso al atributo protegido\n",
    "gerente = Gerente(5000000)\n",
    "print(gerente.mostrar_salario())  # Acceso al método público que muestra el salario del gerente\n",
    "        \n",
    "    "
   ]
  },
  {
   "cell_type": "markdown",
   "id": "3050d6bc",
   "metadata": {},
   "source": [
    "## EJERCICIO III:\n",
    "\n",
    "Investiga el encapsulamiento con  @property\n",
    "\n",
    "Crea una clase Producto con:\n",
    "\n",
    "* __precio como atributo privado\n",
    "* Una propiedad precio que permita consultar y modificar el precio, pero solo si es mayor que 0.\n",
    "\n",
    "Intenta asignar un precio negativo y captura el error:\n",
    "\n",
    "```bash\n",
    "Precio Inicial: 50000\n",
    "Nuevo Precio: 60000\n",
    "Error: El precio no puede ser negativo\n",
    "```"
   ]
  },
  {
   "cell_type": "code",
   "execution_count": null,
   "id": "e42906c1",
   "metadata": {},
   "outputs": [
    {
     "name": "stdout",
     "output_type": "stream",
     "text": [
      "Precio inicial: 100000\n",
      "Error: El precio debe ser mayor que cero.\n"
     ]
    }
   ],
   "source": [
    "class Producto:\n",
    "    def __init__(self, precio):\n",
    "        self.__precio = precio\n",
    "    \n",
    "    @property\n",
    "    def precio(self):\n",
    "        return self.__precio\n",
    "    \n",
    "    @precio.setter\n",
    "    def precio(self, nuevo_precio):\n",
    "        if nuevo_precio <= 0:\n",
    "            raise ValueError(\"El precio debe ser mayor que cero.\")\n",
    "        self.__precio = nuevo_precio\n",
    "\n",
    "p = Producto(100000)\n",
    "print(\"Precio inicial:\", p.precio)  # Acceso al precio usando el getter\n",
    "\n",
    "p.precio = -120000  # Modificación del precio usando el setter\n",
    "print(\"Nuevo precio:\", p.precio)  # Acceso al nuevo precio\n",
    "\n",
    "try:\n",
    "    p.precio = -120000  # Intento de establecer un precio inválido\n",
    "except ValueError as e:\n",
    "    print(\"Error:\", e)\n",
    "\n"
   ]
  }
 ],
 "metadata": {
  "kernelspec": {
   "display_name": "Python 3",
   "language": "python",
   "name": "python3"
  },
  "language_info": {
   "codemirror_mode": {
    "name": "ipython",
    "version": 3
   },
   "file_extension": ".py",
   "mimetype": "text/x-python",
   "name": "python",
   "nbconvert_exporter": "python",
   "pygments_lexer": "ipython3",
   "version": "3.11.9"
  }
 },
 "nbformat": 4,
 "nbformat_minor": 5
}
